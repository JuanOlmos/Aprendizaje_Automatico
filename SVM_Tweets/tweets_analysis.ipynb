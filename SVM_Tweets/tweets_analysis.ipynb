{
 "cells": [
  {
   "cell_type": "code",
   "execution_count": 55,
   "id": "45510ea2",
   "metadata": {},
   "outputs": [],
   "source": [
    "import pandas as pd\n",
    "import numpy as np\n",
    "import string\n",
    "import re\n",
    "import nltk\n",
    "# nltk.download()\n",
    "\n",
    "from sklearn.feature_extraction.text import CountVectorizer, TfidfVectorizer\n",
    "import matplotlib.pyplot as plt\n",
    "\n",
    "from sklearn.svm import SVC\n",
    "from sklearn.model_selection import train_test_split\n",
    "from sklearn.metrics import accuracy_score, confusion_matrix, precision_recall_fscore_support, roc_curve, auc"
   ]
  },
  {
   "cell_type": "code",
   "execution_count": 42,
   "id": "6fb46e60",
   "metadata": {},
   "outputs": [
    {
     "name": "stdout",
     "output_type": "stream",
     "text": [
      "There is 312 Positives AND 576 Negatives\n"
     ]
    },
    {
     "data": {
      "text/html": [
       "<div>\n",
       "<style scoped>\n",
       "    .dataframe tbody tr th:only-of-type {\n",
       "        vertical-align: middle;\n",
       "    }\n",
       "\n",
       "    .dataframe tbody tr th {\n",
       "        vertical-align: top;\n",
       "    }\n",
       "\n",
       "    .dataframe thead th {\n",
       "        text-align: right;\n",
       "    }\n",
       "</style>\n",
       "<table border=\"1\" class=\"dataframe\">\n",
       "  <thead>\n",
       "    <tr style=\"text-align: right;\">\n",
       "      <th></th>\n",
       "      <th>text</th>\n",
       "      <th>class</th>\n",
       "    </tr>\n",
       "  </thead>\n",
       "  <tbody>\n",
       "    <tr>\n",
       "      <th>0</th>\n",
       "      <td>@ amazonIN @ amazon @ AmazonHelp. Also, you ca...</td>\n",
       "      <td>0</td>\n",
       "    </tr>\n",
       "    <tr>\n",
       "      <th>1</th>\n",
       "      <td>Google, Amazon most imitated brand names used ...</td>\n",
       "      <td>0</td>\n",
       "    </tr>\n",
       "    <tr>\n",
       "      <th>2</th>\n",
       "      <td>............ Frank Please don'just t fucking f...</td>\n",
       "      <td>0</td>\n",
       "    </tr>\n",
       "    <tr>\n",
       "      <th>3</th>\n",
       "      <td>Hey @Bezos @Amazon @Instacart what the actual ...</td>\n",
       "      <td>0</td>\n",
       "    </tr>\n",
       "    <tr>\n",
       "      <th>4</th>\n",
       "      <td>If you like it, you'll regret it</td>\n",
       "      <td>0</td>\n",
       "    </tr>\n",
       "    <tr>\n",
       "      <th>...</th>\n",
       "      <td>...</td>\n",
       "      <td>...</td>\n",
       "    </tr>\n",
       "    <tr>\n",
       "      <th>595</th>\n",
       "      <td>I saw this on that James Earl May show on Amaz...</td>\n",
       "      <td>1</td>\n",
       "    </tr>\n",
       "    <tr>\n",
       "      <th>596</th>\n",
       "      <td>This Revlon brush off is really that work! Lit...</td>\n",
       "      <td>1</td>\n",
       "    </tr>\n",
       "    <tr>\n",
       "      <th>597</th>\n",
       "      <td>For people around you which want to use Amazon...</td>\n",
       "      <td>1</td>\n",
       "    </tr>\n",
       "    <tr>\n",
       "      <th>598</th>\n",
       "      <td>of</td>\n",
       "      <td>1</td>\n",
       "    </tr>\n",
       "    <tr>\n",
       "      <th>599</th>\n",
       "      <td>And they're awesome</td>\n",
       "      <td>1</td>\n",
       "    </tr>\n",
       "  </tbody>\n",
       "</table>\n",
       "<p>600 rows × 2 columns</p>\n",
       "</div>"
      ],
      "text/plain": [
       "                                                  text  class\n",
       "0    @ amazonIN @ amazon @ AmazonHelp. Also, you ca...      0\n",
       "1    Google, Amazon most imitated brand names used ...      0\n",
       "2    ............ Frank Please don'just t fucking f...      0\n",
       "3    Hey @Bezos @Amazon @Instacart what the actual ...      0\n",
       "4                     If you like it, you'll regret it      0\n",
       "..                                                 ...    ...\n",
       "595  I saw this on that James Earl May show on Amaz...      1\n",
       "596  This Revlon brush off is really that work! Lit...      1\n",
       "597  For people around you which want to use Amazon...      1\n",
       "598                                                 of      1\n",
       "599                                And they're awesome      1\n",
       "\n",
       "[600 rows x 2 columns]"
      ]
     },
     "execution_count": 42,
     "metadata": {},
     "output_type": "execute_result"
    }
   ],
   "source": [
    "df = pd.read_csv(\"../data/svm_tweets/twitter_training.csv\", header = None)\n",
    "df = df[df[1] == \"Amazon\"]\n",
    "df.columns = [\"c0\",\"c1\",\"class\",\"text\"] \n",
    "# df = df.drop_duplicates(inplace = True)\n",
    "n_positives = np.sum(df[\"class\"] == \"Positive\")\n",
    "n_negatives = np.sum(df[\"class\"] == \"Negative\")\n",
    "print(f\"There is {n_positives} Positives AND {n_negatives} Negatives\")\n",
    "df = df[(df[\"class\"] == \"Positive\") | (df[\"class\"] == \"Negative\")]\n",
    "size = 300        # sample size\n",
    "replace = True  # with replacement\n",
    "fn = lambda obj: obj.loc[np.random.choice(obj.index, size, replace),:]\n",
    "df = df.groupby('class', as_index=False).apply(fn).reset_index()\n",
    "df = df[[\"text\",\"class\"]]\n",
    "df[\"text\"] = df[\"text\"].astype(\"str\")\n",
    "df[\"class\"] = df[\"class\"].replace([\"Negative\",\"Positive\"],[0,1])\n",
    "df"
   ]
  },
  {
   "cell_type": "code",
   "execution_count": 45,
   "id": "ff77c01c",
   "metadata": {},
   "outputs": [],
   "source": [
    "#Cleaning Text\n",
    "def clean_text(text):\n",
    "    text_lc = \"\".join([word.lower() for word in text if word not in string.punctuation]) # remove puntuation\n",
    "    text_rc = re.sub('[0-9]+', '', text_lc)\n",
    "    tokens = re.split('\\W+', text_rc)    # tokenization\n",
    "    text = [ps.stem(word) for word in tokens if word not in stopword]  # remove stopwords and stemming\n",
    "    return text"
   ]
  },
  {
   "cell_type": "code",
   "execution_count": 46,
   "id": "8a025798",
   "metadata": {},
   "outputs": [],
   "source": [
    "def get_probs(df, op = \"1\"):\n",
    "    ps = nltk.PorterStemmer()\n",
    "    stopword = nltk.corpus.stopwords.words('english')\n",
    "    #Appliyng Countvectorizer\n",
    "    if op == \"1\":\n",
    "        countVectorizer = CountVectorizer(analyzer=clean_text) \n",
    "    elif op == \"2\":\n",
    "        countVectorizer = TfidfVectorizer(analyzer=clean_text) \n",
    "    \n",
    "    countVector = countVectorizer.fit_transform(df['text'])\n",
    "    # print(\"{} Number of reviews has {} words\".format(countVector.shape[0], countVector.shape[1]))\n",
    "    #print(countVectorizer.get_feature_names())\n",
    "    count_vect_df = pd.DataFrame(countVector.toarray(), columns=countVectorizer.get_feature_names())\n",
    "\n",
    "    #calculating probs    \n",
    "    X = count_vect_df.values[:,:]\n",
    "    print(f'X shape: {X.shape}')\n",
    "    probs = np.mean(X, axis = 0) \n",
    "    probs = pd.DataFrame({\"Probs\":probs})\n",
    "    probs = probs.sort_values(by = \"Probs\", ascending=False)\n",
    "    probs[\"probs2\"] = probs[\"Probs\"] / probs[\"Probs\"].sum()\n",
    "    probs[\"crf\"] = probs[\"probs2\"].cumsum()\n",
    "    return count_vect_df, probs\n"
   ]
  },
  {
   "cell_type": "code",
   "execution_count": 47,
   "id": "6b705513",
   "metadata": {},
   "outputs": [
    {
     "name": "stdout",
     "output_type": "stream",
     "text": [
      "X shape: (600, 1263)\n",
      "X shape: (600, 1263)\n"
     ]
    },
    {
     "name": "stderr",
     "output_type": "stream",
     "text": [
      "/Users/juanolmos/opt/anaconda3/envs/dl/lib/python3.9/site-packages/sklearn/utils/deprecation.py:87: FutureWarning: Function get_feature_names is deprecated; get_feature_names is deprecated in 1.0 and will be removed in 1.2. Please use get_feature_names_out instead.\n",
      "  warnings.warn(msg, category=FutureWarning)\n"
     ]
    },
    {
     "data": {
      "text/plain": [
       "<matplotlib.legend.Legend at 0x7f8479b42ca0>"
      ]
     },
     "execution_count": 47,
     "metadata": {},
     "output_type": "execute_result"
    },
    {
     "data": {
      "image/png": "[encoded data removed]",
      "text/plain": [
       "<Figure size 432x288 with 1 Axes>"
      ]
     },
     "metadata": {
      "needs_background": "light"
     },
     "output_type": "display_data"
    }
   ],
   "source": [
    "mop1, prosop1 = get_probs(df = df, op = \"1\")\n",
    "mop2, prosop2 = get_probs(df = df, op = \"2\")\n",
    "xx = np.arange(len(prosop1.crf))\n",
    "plt.plot(xx,prosop1.crf, label = \"glasgow\")\n",
    "plt.plot(xx,prosop2.crf, label = \"tf-idf\")\n",
    "plt.legend()"
   ]
  },
  {
   "cell_type": "code",
   "execution_count": 50,
   "id": "2b03f011",
   "metadata": {},
   "outputs": [],
   "source": [
    "\n",
    "X, y = mop1.values, df[\"class\"].values\n",
    "X_train, X_test, y_train, y_test = train_test_split(X, y, test_size=0.2, random_state=42)\n",
    "\n",
    "clf = SVC()\n",
    "clf.fit(X, y)\n",
    "y_pred = clf.predict(X_test)\n",
    "\"\"\" \n",
    "-----   Metrics  -----\n",
    "\"\"\"   \n",
    "acc = accuracy_score(y_test, y_pred)\n",
    "prf = precision_recall_fscore_support(y_test, y_pred,zero_division=0.0)\n",
    "pre, spe, sen, f1s = prf[0][1], prf[1][0], prf[1][1], prf[2][1]\n",
    "\n",
    "metrics_df = pd.DataFrame({'Recall': [sen],                    \n",
    "                    'Precision': [pre],\n",
    "                    'Accuracy': [acc],\n",
    "                    'F1-Score': [f1s]})\n",
    "metrics_df\n"
   ]
  },
  {
   "cell_type": "code",
   "execution_count": 57,
   "id": "2da78656",
   "metadata": {},
   "outputs": [
    {
     "data": {
      "text/html": [
       "<div>\n",
       "<style scoped>\n",
       "    .dataframe tbody tr th:only-of-type {\n",
       "        vertical-align: middle;\n",
       "    }\n",
       "\n",
       "    .dataframe tbody tr th {\n",
       "        vertical-align: top;\n",
       "    }\n",
       "\n",
       "    .dataframe thead th {\n",
       "        text-align: right;\n",
       "    }\n",
       "</style>\n",
       "<table border=\"1\" class=\"dataframe\">\n",
       "  <thead>\n",
       "    <tr style=\"text-align: right;\">\n",
       "      <th></th>\n",
       "      <th>Recall</th>\n",
       "      <th>Precision</th>\n",
       "      <th>Accuracy</th>\n",
       "      <th>F1-Score</th>\n",
       "    </tr>\n",
       "  </thead>\n",
       "  <tbody>\n",
       "    <tr>\n",
       "      <th>0</th>\n",
       "      <td>1.0</td>\n",
       "      <td>0.935484</td>\n",
       "      <td>0.966667</td>\n",
       "      <td>0.966667</td>\n",
       "    </tr>\n",
       "  </tbody>\n",
       "</table>\n",
       "</div>"
      ],
      "text/plain": [
       "   Recall  Precision  Accuracy  F1-Score\n",
       "0     1.0   0.935484  0.966667  0.966667"
      ]
     },
     "execution_count": 57,
     "metadata": {},
     "output_type": "execute_result"
    }
   ],
   "source": []
  }
 ],
 "metadata": {
  "interpreter": {
   "hash": "2c042328f4e636c77672d8a8464637c03ce0dfd3d58b5671034552d46c1ea519"
  },
  "kernelspec": {
   "display_name": "Python 3.9.7 64-bit ('dl': conda)",
   "language": "python",
   "name": "python3"
  },
  "language_info": {
   "codemirror_mode": {
    "name": "ipython",
    "version": 3
   },
   "file_extension": ".py",
   "mimetype": "text/x-python",
   "name": "python",
   "nbconvert_exporter": "python",
   "pygments_lexer": "ipython3",
   "version": "3.9.7"
  }
 },
 "nbformat": 4,
 "nbformat_minor": 5
}
