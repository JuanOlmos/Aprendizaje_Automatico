{
 "cells": [
  {
   "cell_type": "code",
   "execution_count": 1,
   "id": "8200602f",
   "metadata": {},
   "outputs": [
    {
     "name": "stderr",
     "output_type": "stream",
     "text": [
      "[nltk_data] Downloading package punkt to /Users/juanolmos/nltk_data...\n",
      "[nltk_data]   Package punkt is already up-to-date!\n"
     ]
    }
   ],
   "source": [
    "from textblob import TextBlob as tb\n",
    "import math\n",
    "\n",
    "import pandas as pd\n",
    "import numpy as np\n",
    "import string\n",
    "import re\n",
    "import nltk\n",
    "nltk.download('punkt')\n",
    "# nltk.download()\n",
    "\n",
    "from sklearn.feature_extraction.text import CountVectorizer, TfidfVectorizer\n",
    "import matplotlib.pyplot as plt\n",
    "\n",
    "from sklearn.svm import SVC\n",
    "from sklearn.model_selection import train_test_split\n",
    "from sklearn.metrics import accuracy_score, precision_recall_fscore_support\n",
    "from sklearn.naive_bayes import GaussianNB"
   ]
  },
  {
   "cell_type": "code",
   "execution_count": 2,
   "id": "a3cdff9a",
   "metadata": {},
   "outputs": [
    {
     "name": "stdout",
     "output_type": "stream",
     "text": [
      "There is 312 Positives AND 576 Negatives\n"
     ]
    },
    {
     "data": {
      "text/html": [
       "<div>\n",
       "<style scoped>\n",
       "    .dataframe tbody tr th:only-of-type {\n",
       "        vertical-align: middle;\n",
       "    }\n",
       "\n",
       "    .dataframe tbody tr th {\n",
       "        vertical-align: top;\n",
       "    }\n",
       "\n",
       "    .dataframe thead th {\n",
       "        text-align: right;\n",
       "    }\n",
       "</style>\n",
       "<table border=\"1\" class=\"dataframe\">\n",
       "  <thead>\n",
       "    <tr style=\"text-align: right;\">\n",
       "      <th></th>\n",
       "      <th>text</th>\n",
       "      <th>class</th>\n",
       "    </tr>\n",
       "  </thead>\n",
       "  <tbody>\n",
       "    <tr>\n",
       "      <th>0</th>\n",
       "      <td>Between Apple and Amazon ions know who's worst...</td>\n",
       "      <td>0</td>\n",
       "    </tr>\n",
       "    <tr>\n",
       "      <th>1</th>\n",
       "      <td>All I know is that I will wear one from now on...</td>\n",
       "      <td>0</td>\n",
       "    </tr>\n",
       "    <tr>\n",
       "      <th>2</th>\n",
       "      <td>Amazon fires two employees critical of warehou...</td>\n",
       "      <td>0</td>\n",
       "    </tr>\n",
       "    <tr>\n",
       "      <th>3</th>\n",
       "      <td>My Mistake</td>\n",
       "      <td>0</td>\n",
       "    </tr>\n",
       "    <tr>\n",
       "      <th>4</th>\n",
       "      <td>I thought going after workers for safety whist...</td>\n",
       "      <td>0</td>\n",
       "    </tr>\n",
       "    <tr>\n",
       "      <th>...</th>\n",
       "      <td>...</td>\n",
       "      <td>...</td>\n",
       "    </tr>\n",
       "    <tr>\n",
       "      <th>95</th>\n",
       "      <td>Amazon has the coolest shit I never thought I'...</td>\n",
       "      <td>1</td>\n",
       "    </tr>\n",
       "    <tr>\n",
       "      <th>96</th>\n",
       "      <td>I love ordering stuff for her people off Amazon</td>\n",
       "      <td>1</td>\n",
       "    </tr>\n",
       "    <tr>\n",
       "      <th>97</th>\n",
       "      <td>For those of you that love to use Amazon, you ...</td>\n",
       "      <td>1</td>\n",
       "    </tr>\n",
       "    <tr>\n",
       "      <th>98</th>\n",
       "      <td>Hated packing this first one but at least it s...</td>\n",
       "      <td>1</td>\n",
       "    </tr>\n",
       "    <tr>\n",
       "      <th>99</th>\n",
       "      <td>amzn.to/2yN3aSV Best selling for amazon</td>\n",
       "      <td>1</td>\n",
       "    </tr>\n",
       "  </tbody>\n",
       "</table>\n",
       "<p>100 rows × 2 columns</p>\n",
       "</div>"
      ],
      "text/plain": [
       "                                                 text  class\n",
       "0   Between Apple and Amazon ions know who's worst...      0\n",
       "1   All I know is that I will wear one from now on...      0\n",
       "2   Amazon fires two employees critical of warehou...      0\n",
       "3                                          My Mistake      0\n",
       "4   I thought going after workers for safety whist...      0\n",
       "..                                                ...    ...\n",
       "95  Amazon has the coolest shit I never thought I'...      1\n",
       "96    I love ordering stuff for her people off Amazon      1\n",
       "97  For those of you that love to use Amazon, you ...      1\n",
       "98  Hated packing this first one but at least it s...      1\n",
       "99            amzn.to/2yN3aSV Best selling for amazon      1\n",
       "\n",
       "[100 rows x 2 columns]"
      ]
     },
     "execution_count": 2,
     "metadata": {},
     "output_type": "execute_result"
    }
   ],
   "source": [
    "df = pd.read_csv(\"../data/svm_tweets/twitter_training.csv\", header = None)\n",
    "df = df[df[1] == \"Amazon\"]\n",
    "df.columns = [\"c0\",\"c1\",\"class\",\"text\"] \n",
    "# df = df.drop_duplicates(inplace = True)\n",
    "n_positives = np.sum(df[\"class\"] == \"Positive\")\n",
    "n_negatives = np.sum(df[\"class\"] == \"Negative\")\n",
    "print(f\"There is {n_positives} Positives AND {n_negatives} Negatives\")\n",
    "df = df[(df[\"class\"] == \"Positive\") | (df[\"class\"] == \"Negative\")]\n",
    "size = 50        # sample size\n",
    "replace = True  # with replacement\n",
    "fn = lambda obj: obj.loc[np.random.choice(obj.index, size, replace),:]\n",
    "df = df.groupby('class', as_index=False).apply(fn).reset_index()\n",
    "df = df[[\"text\",\"class\"]]\n",
    "df[\"text\"] = df[\"text\"].astype(\"str\")\n",
    "df[\"class\"] = df[\"class\"].replace([\"Negative\",\"Positive\"],[0,1])\n",
    "df"
   ]
  },
  {
   "cell_type": "code",
   "execution_count": 3,
   "id": "5fb61fde",
   "metadata": {},
   "outputs": [
    {
     "data": {
      "text/html": [
       "<div>\n",
       "<style scoped>\n",
       "    .dataframe tbody tr th:only-of-type {\n",
       "        vertical-align: middle;\n",
       "    }\n",
       "\n",
       "    .dataframe tbody tr th {\n",
       "        vertical-align: top;\n",
       "    }\n",
       "\n",
       "    .dataframe thead th {\n",
       "        text-align: right;\n",
       "    }\n",
       "</style>\n",
       "<table border=\"1\" class=\"dataframe\">\n",
       "  <thead>\n",
       "    <tr style=\"text-align: right;\">\n",
       "      <th></th>\n",
       "      <th>text</th>\n",
       "      <th>class</th>\n",
       "      <th>new_text</th>\n",
       "    </tr>\n",
       "  </thead>\n",
       "  <tbody>\n",
       "    <tr>\n",
       "      <th>0</th>\n",
       "      <td>Between Apple and Amazon ions know who's worst...</td>\n",
       "      <td>0</td>\n",
       "      <td>appl amazon ion know who worst come take damn ...</td>\n",
       "    </tr>\n",
       "    <tr>\n",
       "      <th>1</th>\n",
       "      <td>All I know is that I will wear one from now on...</td>\n",
       "      <td>0</td>\n",
       "      <td>know wear one along glove new norm peopl still...</td>\n",
       "    </tr>\n",
       "    <tr>\n",
       "      <th>2</th>\n",
       "      <td>Amazon fires two employees critical of warehou...</td>\n",
       "      <td>0</td>\n",
       "      <td>amazon fire two employe critic warehous work c...</td>\n",
       "    </tr>\n",
       "    <tr>\n",
       "      <th>3</th>\n",
       "      <td>My Mistake</td>\n",
       "      <td>0</td>\n",
       "      <td>mistak</td>\n",
       "    </tr>\n",
       "    <tr>\n",
       "      <th>4</th>\n",
       "      <td>I thought going after workers for safety whist...</td>\n",
       "      <td>0</td>\n",
       "      <td>thought go worker safeti whistleblow worker ex...</td>\n",
       "    </tr>\n",
       "    <tr>\n",
       "      <th>...</th>\n",
       "      <td>...</td>\n",
       "      <td>...</td>\n",
       "      <td>...</td>\n",
       "    </tr>\n",
       "    <tr>\n",
       "      <th>95</th>\n",
       "      <td>Amazon has the coolest shit I never thought I'...</td>\n",
       "      <td>1</td>\n",
       "      <td>amazon coolest shit never thought id need boug...</td>\n",
       "    </tr>\n",
       "    <tr>\n",
       "      <th>96</th>\n",
       "      <td>I love ordering stuff for her people off Amazon</td>\n",
       "      <td>1</td>\n",
       "      <td>love order stuff peopl amazon</td>\n",
       "    </tr>\n",
       "    <tr>\n",
       "      <th>97</th>\n",
       "      <td>For those of you that love to use Amazon, you ...</td>\n",
       "      <td>1</td>\n",
       "      <td>love use amazon get cheap bristol twenti coffe...</td>\n",
       "    </tr>\n",
       "    <tr>\n",
       "      <th>98</th>\n",
       "      <td>Hated packing this first one but at least it s...</td>\n",
       "      <td>1</td>\n",
       "      <td>hate pack first one least sold arriv safe lol</td>\n",
       "    </tr>\n",
       "    <tr>\n",
       "      <th>99</th>\n",
       "      <td>amzn.to/2yN3aSV Best selling for amazon</td>\n",
       "      <td>1</td>\n",
       "      <td>amzntoynasv best sell amazon</td>\n",
       "    </tr>\n",
       "  </tbody>\n",
       "</table>\n",
       "<p>100 rows × 3 columns</p>\n",
       "</div>"
      ],
      "text/plain": [
       "                                                 text  class  \\\n",
       "0   Between Apple and Amazon ions know who's worst...      0   \n",
       "1   All I know is that I will wear one from now on...      0   \n",
       "2   Amazon fires two employees critical of warehou...      0   \n",
       "3                                          My Mistake      0   \n",
       "4   I thought going after workers for safety whist...      0   \n",
       "..                                                ...    ...   \n",
       "95  Amazon has the coolest shit I never thought I'...      1   \n",
       "96    I love ordering stuff for her people off Amazon      1   \n",
       "97  For those of you that love to use Amazon, you ...      1   \n",
       "98  Hated packing this first one but at least it s...      1   \n",
       "99            amzn.to/2yN3aSV Best selling for amazon      1   \n",
       "\n",
       "                                             new_text  \n",
       "0   appl amazon ion know who worst come take damn ...  \n",
       "1   know wear one along glove new norm peopl still...  \n",
       "2   amazon fire two employe critic warehous work c...  \n",
       "3                                              mistak  \n",
       "4   thought go worker safeti whistleblow worker ex...  \n",
       "..                                                ...  \n",
       "95  amazon coolest shit never thought id need boug...  \n",
       "96                      love order stuff peopl amazon  \n",
       "97  love use amazon get cheap bristol twenti coffe...  \n",
       "98      hate pack first one least sold arriv safe lol  \n",
       "99                       amzntoynasv best sell amazon  \n",
       "\n",
       "[100 rows x 3 columns]"
      ]
     },
     "execution_count": 3,
     "metadata": {},
     "output_type": "execute_result"
    }
   ],
   "source": [
    "def clean_text(text):\n",
    "    ps = nltk.PorterStemmer()\n",
    "    stopword = nltk.corpus.stopwords.words('english')\n",
    "    text_lc = \"\".join([word.lower() for word in text if word not in string.punctuation]) # remove puntuation\n",
    "    text_rc = re.sub('[0-9]+', '', text_lc)\n",
    "    tokens = re.split('\\W+', text_rc)    # tokenization\n",
    "    text = [ps.stem(word) for word in tokens if word not in stopword]  # remove stopwords and stemming\n",
    "    return \" \".join(text)\n",
    "\n",
    "df[\"new_text\"] = df[\"text\"].apply(lambda x: clean_text(x))\n",
    "df    "
   ]
  },
  {
   "cell_type": "markdown",
   "id": "a71be1f7",
   "metadata": {},
   "source": [
    "\n",
    "$tf = \\frac{fr_{td}}{length_d}$\n",
    "\n",
    "$idf = log(\\frac{N}{n_j})$"
   ]
  },
  {
   "cell_type": "code",
   "execution_count": 4,
   "id": "3fa32742",
   "metadata": {},
   "outputs": [],
   "source": [
    "def tf(word, blob): #frecuencia de palabra en documento\n",
    "    return blob.words.count(word) / len(blob.words)\n",
    "\n",
    "def n_containing(word, bloblist): #en cuantos documentos aparece\n",
    "    return sum(1 for blob in bloblist if word in blob.words)\n",
    "\n",
    "def idf(word, bloblist): #idf\n",
    "    return math.log(len(bloblist) / (1 + n_containing(word, bloblist)))\n",
    "\n",
    "def tfidf(word, blob, bloblist): #tf-idf\n",
    "    return tf(word, blob) * idf(word, bloblist)\n",
    "\n",
    "def glasgow(word, blob, bloblist):\n",
    "    term1 = math.log( 1 + blob.words.count(word)) / math.log(len(blob.words) + 1e-3)\n",
    "    term2 = math.log(1 + (len(bloblist) / n_containing(word, bloblist)))\n",
    "    return term1 * term2"
   ]
  },
  {
   "cell_type": "code",
   "execution_count": 5,
   "id": "9b531d89",
   "metadata": {},
   "outputs": [],
   "source": [
    "def generate_words_matrix(bloblist):\n",
    "    words_matrix = []\n",
    "    for blob in bloblist:\n",
    "        for word in blob.words:\n",
    "            words_matrix.append(word)\n",
    "    words_matrix = set(words_matrix)        \n",
    "    print(f\"Number of words {len(words_matrix)}\")\n",
    "    return words_matrix\n",
    "\n",
    "def twm_matrix(words_matrix,bloblist, metric):\n",
    "    twm = {}\n",
    "    for w in words_matrix:\n",
    "        twm[w] = []\n",
    "    \n",
    "    for blob in bloblist:\n",
    "        # print(blob)\n",
    "        for word in words_matrix:\n",
    "            if word in blob.words:\n",
    "                if metric==\"tf-idf\":\n",
    "                    score = tfidf(word, blob, bloblist)\n",
    "                    twm[word].append(score)\n",
    "                elif metric==\"glasgow\":\n",
    "                    score = glasgow(word, blob, bloblist)\n",
    "                    twm[word].append(score)\n",
    "            else:\n",
    "                twm[word].append(0)\n",
    "                # print(w)\n",
    "    return pd.DataFrame(twm)\n",
    "\n",
    "def get_crf(twm):\n",
    "    X = twm.values[:,:]\n",
    "    # print(f'X shape: {X.shape}')\n",
    "    probs = np.mean(X, axis = 0) \n",
    "    probs = pd.DataFrame({\"Probs\":probs})\n",
    "    probs = probs.sort_values(by = \"Probs\", ascending=False)\n",
    "    probs[\"probs2\"] = probs[\"Probs\"] / probs[\"Probs\"].sum()\n",
    "    probs[\"crf\"] = probs[\"probs2\"].cumsum()\n",
    "    return probs.crf\n",
    "                        "
   ]
  },
  {
   "cell_type": "code",
   "execution_count": 6,
   "id": "58c0e56b",
   "metadata": {},
   "outputs": [
    {
     "name": "stdout",
     "output_type": "stream",
     "text": [
      "Number of words 582\n"
     ]
    }
   ],
   "source": [
    "bloblist = [tb(text) for text in df[\"new_text\"].values]\n",
    "words_matrix = generate_words_matrix(bloblist)\n",
    "\n",
    "twm_tfidf = twm_matrix(words_matrix,bloblist, metric = \"tf-idf\")\n",
    "twm_glasgow = twm_matrix(words_matrix,bloblist, metric = \"glasgow\")\n",
    "\n",
    "crf_tfidf = get_crf(twm_tfidf)\n",
    "crf_glasgow = get_crf(twm_glasgow)"
   ]
  },
  {
   "cell_type": "code",
   "execution_count": 8,
   "id": "a0db5987",
   "metadata": {},
   "outputs": [
    {
     "data": {
      "text/plain": [
       "<matplotlib.legend.Legend at 0x7fc441573b50>"
      ]
     },
     "execution_count": 8,
     "metadata": {},
     "output_type": "execute_result"
    },
    {
     "data": {
      "image/png": "[encoded data removed]",
      "text/plain": [
       "<Figure size 432x288 with 1 Axes>"
      ]
     },
     "metadata": {
      "needs_background": "light"
     },
     "output_type": "display_data"
    }
   ],
   "source": [
    "xx = np.arange(len(crf_tfidf))\n",
    "\n",
    "fig, ax = plt.subplots()\n",
    "plt.plot(xx,crf_glasgow, label = \"glasgow\")\n",
    "plt.plot(xx,crf_tfidf, label = \"tf-idf\")\n",
    "# plt.xscale(\"log\")\n",
    "plt.axvline(350, c=\"k\", linestyle = \"--\")\n",
    "plt.legend()"
   ]
  },
  {
   "cell_type": "code",
   "execution_count": 9,
   "id": "cc689c69",
   "metadata": {},
   "outputs": [],
   "source": [
    "def get_dtm_matrix(twm, n_top):\n",
    "    X = twm.values[:,:]\n",
    "    # print(f'X shape: {X.shape}... ntop: {n_top}')\n",
    "    probs = np.mean(X, axis = 0) \n",
    "    probs = pd.DataFrame({\"Probs\":probs})\n",
    "    probs = probs.sort_values(by = \"Probs\", ascending=False)\n",
    "    # display(probs)\n",
    "\n",
    "    top_words = probs.index[:n_top]\n",
    "    # print(top_words.shape)\n",
    "    twm = twm[twm.columns[top_words]]\n",
    "    # print(top_words)\n",
    "    # display(twm)\n",
    "    \n",
    "    return twm.mask(twm > 0,1)\n",
    " "
   ]
  },
  {
   "cell_type": "code",
   "execution_count": 10,
   "id": "8a08c160",
   "metadata": {},
   "outputs": [],
   "source": [
    "twm_tfidf_top = get_dtm_matrix(twm_tfidf, n_top = 350)\n",
    "twm_glasgow_top = get_dtm_matrix(twm_glasgow, n_top = 350)"
   ]
  },
  {
   "cell_type": "code",
   "execution_count": 11,
   "id": "201be544",
   "metadata": {},
   "outputs": [],
   "source": [
    "def calculate_metrics(df,mop):    \n",
    "    print(mop.shape)\n",
    "    X, y = mop.values, df[\"class\"].values    \n",
    "    X_train, X_test, y_train, y_test = train_test_split(X, y, test_size=0.2, random_state=42)\n",
    "\n",
    "    for name_clf, clf in zip([\"NAIVE BAYES\",\"SVM\"],[GaussianNB(),SVC()]):        \n",
    "        clf.fit(X, y)\n",
    "        y_pred = clf.predict(X_test)\n",
    "        \"\"\" \n",
    "        -----   Metrics  -----\n",
    "        \"\"\"   \n",
    "        acc = accuracy_score(y_test, y_pred)\n",
    "        prf = precision_recall_fscore_support(y_test, y_pred,zero_division=0.0)\n",
    "        pre, spe, sen, f1s = prf[0][1], prf[1][0], prf[1][1], prf[2][1]\n",
    "\n",
    "        metrics_df = pd.DataFrame({'Recall': [sen],                    \n",
    "                            'Precision': [pre],\n",
    "                            'Accuracy': [acc],\n",
    "                            'F1-Score': [f1s]})\n",
    "        print(f\"Results using: {name_clf}'\")            \n",
    "        display(metrics_df)"
   ]
  },
  {
   "cell_type": "code",
   "execution_count": 12,
   "id": "59e466fa",
   "metadata": {},
   "outputs": [
    {
     "name": "stdout",
     "output_type": "stream",
     "text": [
      "(100, 350)\n",
      "Results using: NAIVE BAYES'\n"
     ]
    },
    {
     "data": {
      "text/html": [
       "<div>\n",
       "<style scoped>\n",
       "    .dataframe tbody tr th:only-of-type {\n",
       "        vertical-align: middle;\n",
       "    }\n",
       "\n",
       "    .dataframe tbody tr th {\n",
       "        vertical-align: top;\n",
       "    }\n",
       "\n",
       "    .dataframe thead th {\n",
       "        text-align: right;\n",
       "    }\n",
       "</style>\n",
       "<table border=\"1\" class=\"dataframe\">\n",
       "  <thead>\n",
       "    <tr style=\"text-align: right;\">\n",
       "      <th></th>\n",
       "      <th>Recall</th>\n",
       "      <th>Precision</th>\n",
       "      <th>Accuracy</th>\n",
       "      <th>F1-Score</th>\n",
       "    </tr>\n",
       "  </thead>\n",
       "  <tbody>\n",
       "    <tr>\n",
       "      <th>0</th>\n",
       "      <td>1.0</td>\n",
       "      <td>1.0</td>\n",
       "      <td>1.0</td>\n",
       "      <td>1.0</td>\n",
       "    </tr>\n",
       "  </tbody>\n",
       "</table>\n",
       "</div>"
      ],
      "text/plain": [
       "   Recall  Precision  Accuracy  F1-Score\n",
       "0     1.0        1.0       1.0       1.0"
      ]
     },
     "metadata": {},
     "output_type": "display_data"
    },
    {
     "name": "stdout",
     "output_type": "stream",
     "text": [
      "Results using: SVM'\n"
     ]
    },
    {
     "data": {
      "text/html": [
       "<div>\n",
       "<style scoped>\n",
       "    .dataframe tbody tr th:only-of-type {\n",
       "        vertical-align: middle;\n",
       "    }\n",
       "\n",
       "    .dataframe tbody tr th {\n",
       "        vertical-align: top;\n",
       "    }\n",
       "\n",
       "    .dataframe thead th {\n",
       "        text-align: right;\n",
       "    }\n",
       "</style>\n",
       "<table border=\"1\" class=\"dataframe\">\n",
       "  <thead>\n",
       "    <tr style=\"text-align: right;\">\n",
       "      <th></th>\n",
       "      <th>Recall</th>\n",
       "      <th>Precision</th>\n",
       "      <th>Accuracy</th>\n",
       "      <th>F1-Score</th>\n",
       "    </tr>\n",
       "  </thead>\n",
       "  <tbody>\n",
       "    <tr>\n",
       "      <th>0</th>\n",
       "      <td>1.0</td>\n",
       "      <td>1.0</td>\n",
       "      <td>1.0</td>\n",
       "      <td>1.0</td>\n",
       "    </tr>\n",
       "  </tbody>\n",
       "</table>\n",
       "</div>"
      ],
      "text/plain": [
       "   Recall  Precision  Accuracy  F1-Score\n",
       "0     1.0        1.0       1.0       1.0"
      ]
     },
     "metadata": {},
     "output_type": "display_data"
    },
    {
     "name": "stdout",
     "output_type": "stream",
     "text": [
      "(100, 350)\n",
      "Results using: NAIVE BAYES'\n"
     ]
    },
    {
     "data": {
      "text/html": [
       "<div>\n",
       "<style scoped>\n",
       "    .dataframe tbody tr th:only-of-type {\n",
       "        vertical-align: middle;\n",
       "    }\n",
       "\n",
       "    .dataframe tbody tr th {\n",
       "        vertical-align: top;\n",
       "    }\n",
       "\n",
       "    .dataframe thead th {\n",
       "        text-align: right;\n",
       "    }\n",
       "</style>\n",
       "<table border=\"1\" class=\"dataframe\">\n",
       "  <thead>\n",
       "    <tr style=\"text-align: right;\">\n",
       "      <th></th>\n",
       "      <th>Recall</th>\n",
       "      <th>Precision</th>\n",
       "      <th>Accuracy</th>\n",
       "      <th>F1-Score</th>\n",
       "    </tr>\n",
       "  </thead>\n",
       "  <tbody>\n",
       "    <tr>\n",
       "      <th>0</th>\n",
       "      <td>1.0</td>\n",
       "      <td>1.0</td>\n",
       "      <td>1.0</td>\n",
       "      <td>1.0</td>\n",
       "    </tr>\n",
       "  </tbody>\n",
       "</table>\n",
       "</div>"
      ],
      "text/plain": [
       "   Recall  Precision  Accuracy  F1-Score\n",
       "0     1.0        1.0       1.0       1.0"
      ]
     },
     "metadata": {},
     "output_type": "display_data"
    },
    {
     "name": "stdout",
     "output_type": "stream",
     "text": [
      "Results using: SVM'\n"
     ]
    },
    {
     "data": {
      "text/html": [
       "<div>\n",
       "<style scoped>\n",
       "    .dataframe tbody tr th:only-of-type {\n",
       "        vertical-align: middle;\n",
       "    }\n",
       "\n",
       "    .dataframe tbody tr th {\n",
       "        vertical-align: top;\n",
       "    }\n",
       "\n",
       "    .dataframe thead th {\n",
       "        text-align: right;\n",
       "    }\n",
       "</style>\n",
       "<table border=\"1\" class=\"dataframe\">\n",
       "  <thead>\n",
       "    <tr style=\"text-align: right;\">\n",
       "      <th></th>\n",
       "      <th>Recall</th>\n",
       "      <th>Precision</th>\n",
       "      <th>Accuracy</th>\n",
       "      <th>F1-Score</th>\n",
       "    </tr>\n",
       "  </thead>\n",
       "  <tbody>\n",
       "    <tr>\n",
       "      <th>0</th>\n",
       "      <td>1.0</td>\n",
       "      <td>1.0</td>\n",
       "      <td>1.0</td>\n",
       "      <td>1.0</td>\n",
       "    </tr>\n",
       "  </tbody>\n",
       "</table>\n",
       "</div>"
      ],
      "text/plain": [
       "   Recall  Precision  Accuracy  F1-Score\n",
       "0     1.0        1.0       1.0       1.0"
      ]
     },
     "metadata": {},
     "output_type": "display_data"
    }
   ],
   "source": [
    "calculate_metrics(df,twm_tfidf_top)\n",
    "\n",
    "calculate_metrics(df,twm_glasgow_top)"
   ]
  },
  {
   "cell_type": "code",
   "execution_count": 16,
   "metadata": {},
   "outputs": [],
   "source": [
    "def varying_top(df,mop, ub, step): \n",
    "    metrics_df = {\"tresh\": [], \n",
    "                  'Recall': [],                    \n",
    "                    'Precision': [],\n",
    "                    'Accuracy': [],\n",
    "                    'F1-Score': []}\n",
    "    for i in np.arange(step,ub,step):\n",
    "        # print(i)\n",
    "        new_mop = get_dtm_matrix(mop, n_top = i)\n",
    "    \n",
    "        # print(new_mop.shape)\n",
    "        X, y = new_mop.values, df[\"class\"].values    \n",
    "        X_train, X_test, y_train, y_test = train_test_split(X, y, test_size=0.2, random_state=42)\n",
    "        # print(X_train.shape)\n",
    "        clf = SVC()\n",
    "        clf.fit(X_train, y_train)\n",
    "        y_pred = clf.predict(X_test)\n",
    "        \"\"\" \n",
    "        -----   Metrics  -----\n",
    "        \"\"\"   \n",
    "        acc = accuracy_score(y_test, y_pred)\n",
    "        prf = precision_recall_fscore_support(y_test, y_pred,zero_division=0.0)\n",
    "        pre, spe, sen, f1s = prf[0][1], prf[1][0], prf[1][1], prf[2][1]\n",
    "\n",
    "        metrics_df[\"tresh\"].append(i)\n",
    "        metrics_df[\"Recall\"].append(sen)\n",
    "        metrics_df[\"Precision\"].append(pre)\n",
    "        metrics_df[\"Accuracy\"].append(acc)\n",
    "        metrics_df[\"F1-Score\"].append(f1s)\n",
    "    return pd.DataFrame(metrics_df)"
   ]
  },
  {
   "cell_type": "code",
   "execution_count": 17,
   "metadata": {},
   "outputs": [
    {
     "data": {
      "image/png": "[encoded data removed]",
      "text/plain": [
       "<Figure size 432x288 with 1 Axes>"
      ]
     },
     "metadata": {
      "needs_background": "light"
     },
     "output_type": "display_data"
    }
   ],
   "source": [
    "df_results = varying_top(df,twm_tfidf, 600, 50)\n",
    "for c in df_results.columns:\n",
    "    if c!=\"tresh\":        \n",
    "        plt.plot(df_results[\"tresh\"],df_results[c], label = c)\n",
    "plt.legend()\n",
    "plt.show()\n",
    "        "
   ]
  },
  {
   "cell_type": "code",
   "execution_count": 18,
   "metadata": {},
   "outputs": [
    {
     "data": {
      "image/png": "[encoded data removed]",
      "text/plain": [
       "<Figure size 432x288 with 1 Axes>"
      ]
     },
     "metadata": {
      "needs_background": "light"
     },
     "output_type": "display_data"
    }
   ],
   "source": [
    "df_results = calculate_metrics(df,twm_glasgow, 600, 50)\n",
    "for c in df_results.columns:\n",
    "    if c!=\"tresh\":        \n",
    "        plt.plot(df_results[\"tresh\"],df_results[c], label = c)\n",
    "plt.legend()\n",
    "plt.show()\n",
    "        "
   ]
  },
  {
   "cell_type": "code",
   "execution_count": null,
   "metadata": {},
   "outputs": [],
   "source": []
  }
 ],
 "metadata": {
  "interpreter": {
   "hash": "2c042328f4e636c77672d8a8464637c03ce0dfd3d58b5671034552d46c1ea519"
  },
  "kernelspec": {
   "display_name": "Python 3.9.7 ('dl')",
   "language": "python",
   "name": "python3"
  },
  "language_info": {
   "codemirror_mode": {
    "name": "ipython",
    "version": 3
   },
   "file_extension": ".py",
   "mimetype": "text/x-python",
   "name": "python",
   "nbconvert_exporter": "python",
   "pygments_lexer": "ipython3",
   "version": "3.9.7"
  },
  "orig_nbformat": 4
 },
 "nbformat": 4,
 "nbformat_minor": 2
}
