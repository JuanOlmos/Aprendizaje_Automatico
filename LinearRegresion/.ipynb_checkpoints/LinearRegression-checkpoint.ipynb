{
 "cells": [
  {
   "cell_type": "code",
   "execution_count": 38,
   "id": "6905140e",
   "metadata": {},
   "outputs": [],
   "source": [
    "import pandas as pd\n",
    "import matplotlib.pyplot as plt\n",
    "import numpy as np\n",
    "import seaborn as sb\n",
    "from sklearn.linear_model import LinearRegression\n",
    "import statsmodels.api as sm"
   ]
  },
  {
   "cell_type": "markdown",
   "id": "f7a40ad2",
   "metadata": {},
   "source": [
    "Data: https://www.kaggle.com/ashydv/advertising-dataset"
   ]
  },
  {
   "cell_type": "code",
   "execution_count": 2,
   "id": "0760c5ac",
   "metadata": {},
   "outputs": [
    {
     "data": {
      "text/html": [
       "<div>\n",
       "<style scoped>\n",
       "    .dataframe tbody tr th:only-of-type {\n",
       "        vertical-align: middle;\n",
       "    }\n",
       "\n",
       "    .dataframe tbody tr th {\n",
       "        vertical-align: top;\n",
       "    }\n",
       "\n",
       "    .dataframe thead th {\n",
       "        text-align: right;\n",
       "    }\n",
       "</style>\n",
       "<table border=\"1\" class=\"dataframe\">\n",
       "  <thead>\n",
       "    <tr style=\"text-align: right;\">\n",
       "      <th></th>\n",
       "      <th>TV</th>\n",
       "      <th>Radio</th>\n",
       "      <th>Newspaper</th>\n",
       "      <th>Sales</th>\n",
       "    </tr>\n",
       "  </thead>\n",
       "  <tbody>\n",
       "    <tr>\n",
       "      <th>0</th>\n",
       "      <td>230.1</td>\n",
       "      <td>37.8</td>\n",
       "      <td>69.2</td>\n",
       "      <td>22.1</td>\n",
       "    </tr>\n",
       "    <tr>\n",
       "      <th>1</th>\n",
       "      <td>44.5</td>\n",
       "      <td>39.3</td>\n",
       "      <td>45.1</td>\n",
       "      <td>10.4</td>\n",
       "    </tr>\n",
       "    <tr>\n",
       "      <th>2</th>\n",
       "      <td>17.2</td>\n",
       "      <td>45.9</td>\n",
       "      <td>69.3</td>\n",
       "      <td>12.0</td>\n",
       "    </tr>\n",
       "    <tr>\n",
       "      <th>3</th>\n",
       "      <td>151.5</td>\n",
       "      <td>41.3</td>\n",
       "      <td>58.5</td>\n",
       "      <td>16.5</td>\n",
       "    </tr>\n",
       "    <tr>\n",
       "      <th>4</th>\n",
       "      <td>180.8</td>\n",
       "      <td>10.8</td>\n",
       "      <td>58.4</td>\n",
       "      <td>17.9</td>\n",
       "    </tr>\n",
       "    <tr>\n",
       "      <th>...</th>\n",
       "      <td>...</td>\n",
       "      <td>...</td>\n",
       "      <td>...</td>\n",
       "      <td>...</td>\n",
       "    </tr>\n",
       "    <tr>\n",
       "      <th>195</th>\n",
       "      <td>38.2</td>\n",
       "      <td>3.7</td>\n",
       "      <td>13.8</td>\n",
       "      <td>7.6</td>\n",
       "    </tr>\n",
       "    <tr>\n",
       "      <th>196</th>\n",
       "      <td>94.2</td>\n",
       "      <td>4.9</td>\n",
       "      <td>8.1</td>\n",
       "      <td>14.0</td>\n",
       "    </tr>\n",
       "    <tr>\n",
       "      <th>197</th>\n",
       "      <td>177.0</td>\n",
       "      <td>9.3</td>\n",
       "      <td>6.4</td>\n",
       "      <td>14.8</td>\n",
       "    </tr>\n",
       "    <tr>\n",
       "      <th>198</th>\n",
       "      <td>283.6</td>\n",
       "      <td>42.0</td>\n",
       "      <td>66.2</td>\n",
       "      <td>25.5</td>\n",
       "    </tr>\n",
       "    <tr>\n",
       "      <th>199</th>\n",
       "      <td>232.1</td>\n",
       "      <td>8.6</td>\n",
       "      <td>8.7</td>\n",
       "      <td>18.4</td>\n",
       "    </tr>\n",
       "  </tbody>\n",
       "</table>\n",
       "<p>200 rows × 4 columns</p>\n",
       "</div>"
      ],
      "text/plain": [
       "        TV  Radio  Newspaper  Sales\n",
       "0    230.1   37.8       69.2   22.1\n",
       "1     44.5   39.3       45.1   10.4\n",
       "2     17.2   45.9       69.3   12.0\n",
       "3    151.5   41.3       58.5   16.5\n",
       "4    180.8   10.8       58.4   17.9\n",
       "..     ...    ...        ...    ...\n",
       "195   38.2    3.7       13.8    7.6\n",
       "196   94.2    4.9        8.1   14.0\n",
       "197  177.0    9.3        6.4   14.8\n",
       "198  283.6   42.0       66.2   25.5\n",
       "199  232.1    8.6        8.7   18.4\n",
       "\n",
       "[200 rows x 4 columns]"
      ]
     },
     "execution_count": 2,
     "metadata": {},
     "output_type": "execute_result"
    }
   ],
   "source": [
    "data = pd.read_csv('../data/advertising.csv')\n",
    "data"
   ]
  },
  {
   "cell_type": "markdown",
   "id": "1b7c282a",
   "metadata": {},
   "source": [
    "* Que plan de propaganda resulta en altas ventas?\n",
    "    * Existe una relación entre propaganda y ventas?\n",
    "    * Que tan fuerte es esta relacion?\n",
    "    * Los tres medios(Tv, radio, newspaper) estan relacionados ?\n",
    "    \n",
    "Podemos modelar una variable $Y$ a partir de una variable $X$ ajustando la relación lineal\n",
    "$$ Y \\approx \\beta_0 + \\beta_1 X$$\n",
    "* $\\beta_0$ y $\\beta_1$ parametros por ajustar.\n",
    "* Datos $(x_i,y_i)$ para ajustar el modelo.\n",
    "* **Mínimos cuadrados** para estimar un modelo lo mas cercano posible a los datos de ajuste:\n",
    "$$argmin_{\\beta_0,\\beta_1} \\sum {(y_i-\\hat{y_i})}^2$$\n",
    "\n",
    "<!-- donde $\\sum {(y_i-\\hat{y_i})}^2$ con $\\hat{y_i} =  \\beta_0 + \\beta_1 x_i$. -->\n",
    "\n",
    "\n",
    "\n"
   ]
  },
  {
   "cell_type": "code",
   "execution_count": 23,
   "id": "7c17d2c6",
   "metadata": {},
   "outputs": [
    {
     "name": "stdout",
     "output_type": "stream",
     "text": [
      "(200, 1) (200, 1)\n"
     ]
    },
    {
     "data": {
      "text/plain": [
       "Text(0, 0.5, 'Sales')"
      ]
     },
     "execution_count": 23,
     "metadata": {},
     "output_type": "execute_result"
    },
    {
     "data": {
      "image/png": "[encoded data removed]",
      "text/plain": [
       "<Figure size 432x288 with 1 Axes>"
      ]
     },
     "metadata": {
      "needs_background": "light"
     },
     "output_type": "display_data"
    }
   ],
   "source": [
    "x = data[\"TV\"].values.reshape(-1,1)\n",
    "y = data[\"Sales\"].values.reshape(-1,1)\n",
    "print(x.shape, y.shape)\n",
    "plt.scatter(x,y)\n",
    "plt.xlabel('TV')\n",
    "plt.ylabel('Sales')"
   ]
  },
  {
   "cell_type": "code",
   "execution_count": 30,
   "id": "7cdab9d6",
   "metadata": {},
   "outputs": [
    {
     "name": "stdout",
     "output_type": "stream",
     "text": [
      "beta1 = 0.055464770469558854\n",
      "beta0 = 6.974821488229894\n"
     ]
    }
   ],
   "source": [
    "xmean, ymean = np.mean(x), np.mean(y)\n",
    "beta1 = np.sum((x - xmean)*(y - ymean)) / np.sum((x - xmean)**2)\n",
    "beta0 = ymean - beta1*xmean\n",
    "print(f'beta1 = {beta1}\\nbeta0 = {beta0}')"
   ]
  },
  {
   "cell_type": "code",
   "execution_count": 31,
   "id": "286cf684",
   "metadata": {},
   "outputs": [
    {
     "name": "stdout",
     "output_type": "stream",
     "text": [
      "score: 0.8121757029987414\n",
      "beta1: [[0.05546477]]\n",
      "beta0: [6.97482149]\n"
     ]
    }
   ],
   "source": [
    "reg = LinearRegression()\n",
    "reg = reg.fit(x,y)\n",
    "score = reg.score(x,y)\n",
    "beta1 = reg.coef_\n",
    "beta0 = reg.intercept_\n",
    "\n",
    "print(f'score: {score}\\nbeta1: {coef}\\nbeta0: {beta0}')"
   ]
  },
  {
   "cell_type": "code",
   "execution_count": 32,
   "id": "30f369da",
   "metadata": {},
   "outputs": [
    {
     "data": {
      "text/plain": [
       "Text(0, 0.5, 'Sales')"
      ]
     },
     "execution_count": 32,
     "metadata": {},
     "output_type": "execute_result"
    },
    {
     "data": {
      "image/png": "[encoded data removed]",
      "text/plain": [
       "<Figure size 432x288 with 1 Axes>"
      ]
     },
     "metadata": {
      "needs_background": "light"
     },
     "output_type": "display_data"
    }
   ],
   "source": [
    "yhat = beta0 + beta1*x\n",
    "plt.scatter(x,y)\n",
    "plt.plot(x,yhat,c = 'r')\n",
    "plt.xlabel('TV')\n",
    "plt.ylabel('Sales')"
   ]
  },
  {
   "cell_type": "markdown",
   "id": "8e0c5090",
   "metadata": {},
   "source": [
    "RSE = $\\sqrt{\\frac{1}{n-2}\\sum {(y_i-\\hat{y_i})}^2}$ (En promedio que tanto se desvía del valor de las ventas)"
   ]
  },
  {
   "cell_type": "code",
   "execution_count": 33,
   "id": "b19722f0",
   "metadata": {},
   "outputs": [],
   "source": [
    "def rse(y,yhat):\n",
    "    n = len(y)\n",
    "    error = np.sqrt((1/n) * np.sum((y-yhat)**2))\n",
    "    return error"
   ]
  },
  {
   "cell_type": "code",
   "execution_count": 34,
   "id": "c582af4e",
   "metadata": {},
   "outputs": [
    {
     "data": {
      "text/plain": [
       "2.2842381438447106"
      ]
     },
     "execution_count": 34,
     "metadata": {},
     "output_type": "execute_result"
    }
   ],
   "source": [
    "rse(y,yhat)"
   ]
  },
  {
   "cell_type": "code",
   "execution_count": 37,
   "id": "093605a0",
   "metadata": {},
   "outputs": [
    {
     "data": {
      "text/plain": [
       "15.096911165161167"
      ]
     },
     "execution_count": 37,
     "metadata": {},
     "output_type": "execute_result"
    }
   ],
   "source": [
    "(rse(y,yhat) / ymean)*100"
   ]
  },
  {
   "cell_type": "markdown",
   "id": "ce562b4a",
   "metadata": {},
   "source": [
    "$R^2 = 1 - \\frac{\\sum {(y_i-\\hat{y_i})}^2}{\\sum {(y_i-\\bar{y})}^2}$ (medida de correlación lineal. Fracción de la varianza explicada)"
   ]
  },
  {
   "cell_type": "code",
   "execution_count": 66,
   "id": "d9d21864",
   "metadata": {},
   "outputs": [],
   "source": [
    "def r2(y,yhat):\n",
    "    r1 = np.sum((y-yhat)**2)\n",
    "    ymean = np.mean(y)\n",
    "    r2 = np.sum((y-ymean)**2)\n",
    "    return 1 - r1/r2"
   ]
  },
  {
   "cell_type": "code",
   "execution_count": 68,
   "id": "0d87bd87",
   "metadata": {},
   "outputs": [
    {
     "data": {
      "text/plain": [
       "0.8121757029987414"
      ]
     },
     "execution_count": 68,
     "metadata": {},
     "output_type": "execute_result"
    }
   ],
   "source": [
    "r2(y,yhat)"
   ]
  },
  {
   "cell_type": "markdown",
   "id": "327ad092",
   "metadata": {},
   "source": [
    "## TV "
   ]
  },
  {
   "cell_type": "code",
   "execution_count": 55,
   "id": "cee0167c",
   "metadata": {},
   "outputs": [
    {
     "data": {
      "text/html": [
       "<table class=\"simpletable\">\n",
       "<caption>OLS Regression Results</caption>\n",
       "<tr>\n",
       "  <th>Dep. Variable:</th>            <td>y</td>        <th>  R-squared:         </th> <td>   0.812</td>\n",
       "</tr>\n",
       "<tr>\n",
       "  <th>Model:</th>                   <td>OLS</td>       <th>  Adj. R-squared:    </th> <td>   0.811</td>\n",
       "</tr>\n",
       "<tr>\n",
       "  <th>Method:</th>             <td>Least Squares</td>  <th>  F-statistic:       </th> <td>   856.2</td>\n",
       "</tr>\n",
       "<tr>\n",
       "  <th>Date:</th>             <td>Mon, 07 Mar 2022</td> <th>  Prob (F-statistic):</th> <td>7.93e-74</td>\n",
       "</tr>\n",
       "<tr>\n",
       "  <th>Time:</th>                 <td>04:33:20</td>     <th>  Log-Likelihood:    </th> <td> -448.99</td>\n",
       "</tr>\n",
       "<tr>\n",
       "  <th>No. Observations:</th>      <td>   200</td>      <th>  AIC:               </th> <td>   902.0</td>\n",
       "</tr>\n",
       "<tr>\n",
       "  <th>Df Residuals:</th>          <td>   198</td>      <th>  BIC:               </th> <td>   908.6</td>\n",
       "</tr>\n",
       "<tr>\n",
       "  <th>Df Model:</th>              <td>     1</td>      <th>                     </th>     <td> </td>   \n",
       "</tr>\n",
       "<tr>\n",
       "  <th>Covariance Type:</th>      <td>nonrobust</td>    <th>                     </th>     <td> </td>   \n",
       "</tr>\n",
       "</table>\n",
       "<table class=\"simpletable\">\n",
       "<tr>\n",
       "    <td></td>       <th>coef</th>     <th>std err</th>      <th>t</th>      <th>P>|t|</th>  <th>[0.025</th>    <th>0.975]</th>  \n",
       "</tr>\n",
       "<tr>\n",
       "  <th>const</th> <td>    6.9748</td> <td>    0.323</td> <td>   21.624</td> <td> 0.000</td> <td>    6.339</td> <td>    7.611</td>\n",
       "</tr>\n",
       "<tr>\n",
       "  <th>x1</th>    <td>    0.0555</td> <td>    0.002</td> <td>   29.260</td> <td> 0.000</td> <td>    0.052</td> <td>    0.059</td>\n",
       "</tr>\n",
       "</table>\n",
       "<table class=\"simpletable\">\n",
       "<tr>\n",
       "  <th>Omnibus:</th>       <td> 0.013</td> <th>  Durbin-Watson:     </th> <td>   2.029</td>\n",
       "</tr>\n",
       "<tr>\n",
       "  <th>Prob(Omnibus):</th> <td> 0.993</td> <th>  Jarque-Bera (JB):  </th> <td>   0.043</td>\n",
       "</tr>\n",
       "<tr>\n",
       "  <th>Skew:</th>          <td>-0.018</td> <th>  Prob(JB):          </th> <td>   0.979</td>\n",
       "</tr>\n",
       "<tr>\n",
       "  <th>Kurtosis:</th>      <td> 2.938</td> <th>  Cond. No.          </th> <td>    338.</td>\n",
       "</tr>\n",
       "</table><br/><br/>Notes:<br/>[1] Standard Errors assume that the covariance matrix of the errors is correctly specified."
      ],
      "text/plain": [
       "<class 'statsmodels.iolib.summary.Summary'>\n",
       "\"\"\"\n",
       "                            OLS Regression Results                            \n",
       "==============================================================================\n",
       "Dep. Variable:                      y   R-squared:                       0.812\n",
       "Model:                            OLS   Adj. R-squared:                  0.811\n",
       "Method:                 Least Squares   F-statistic:                     856.2\n",
       "Date:                Mon, 07 Mar 2022   Prob (F-statistic):           7.93e-74\n",
       "Time:                        04:33:20   Log-Likelihood:                -448.99\n",
       "No. Observations:                 200   AIC:                             902.0\n",
       "Df Residuals:                     198   BIC:                             908.6\n",
       "Df Model:                           1                                         \n",
       "Covariance Type:            nonrobust                                         \n",
       "==============================================================================\n",
       "                 coef    std err          t      P>|t|      [0.025      0.975]\n",
       "------------------------------------------------------------------------------\n",
       "const          6.9748      0.323     21.624      0.000       6.339       7.611\n",
       "x1             0.0555      0.002     29.260      0.000       0.052       0.059\n",
       "==============================================================================\n",
       "Omnibus:                        0.013   Durbin-Watson:                   2.029\n",
       "Prob(Omnibus):                  0.993   Jarque-Bera (JB):                0.043\n",
       "Skew:                          -0.018   Prob(JB):                        0.979\n",
       "Kurtosis:                       2.938   Cond. No.                         338.\n",
       "==============================================================================\n",
       "\n",
       "Notes:\n",
       "[1] Standard Errors assume that the covariance matrix of the errors is correctly specified.\n",
       "\"\"\""
      ]
     },
     "execution_count": 55,
     "metadata": {},
     "output_type": "execute_result"
    }
   ],
   "source": [
    "x = data[\"TV\"].values.reshape(-1,1)\n",
    "y = data[\"Sales\"].values.reshape(-1,1)\n",
    "est = sm.OLS(y,sm.add_constant(x))\n",
    "est = est.fit()\n",
    "est.summary()"
   ]
  },
  {
   "cell_type": "markdown",
   "id": "3f8bbe76",
   "metadata": {},
   "source": [
    "# Radio"
   ]
  },
  {
   "cell_type": "code",
   "execution_count": 59,
   "id": "6aa766af",
   "metadata": {},
   "outputs": [
    {
     "data": {
      "text/html": [
       "<table class=\"simpletable\">\n",
       "<caption>OLS Regression Results</caption>\n",
       "<tr>\n",
       "  <th>Dep. Variable:</th>            <td>y</td>        <th>  R-squared:         </th> <td>   0.122</td>\n",
       "</tr>\n",
       "<tr>\n",
       "  <th>Model:</th>                   <td>OLS</td>       <th>  Adj. R-squared:    </th> <td>   0.118</td>\n",
       "</tr>\n",
       "<tr>\n",
       "  <th>Method:</th>             <td>Least Squares</td>  <th>  F-statistic:       </th> <td>   27.57</td>\n",
       "</tr>\n",
       "<tr>\n",
       "  <th>Date:</th>             <td>Mon, 07 Mar 2022</td> <th>  Prob (F-statistic):</th> <td>3.88e-07</td>\n",
       "</tr>\n",
       "<tr>\n",
       "  <th>Time:</th>                 <td>04:34:48</td>     <th>  Log-Likelihood:    </th> <td> -603.18</td>\n",
       "</tr>\n",
       "<tr>\n",
       "  <th>No. Observations:</th>      <td>   200</td>      <th>  AIC:               </th> <td>   1210.</td>\n",
       "</tr>\n",
       "<tr>\n",
       "  <th>Df Residuals:</th>          <td>   198</td>      <th>  BIC:               </th> <td>   1217.</td>\n",
       "</tr>\n",
       "<tr>\n",
       "  <th>Df Model:</th>              <td>     1</td>      <th>                     </th>     <td> </td>   \n",
       "</tr>\n",
       "<tr>\n",
       "  <th>Covariance Type:</th>      <td>nonrobust</td>    <th>                     </th>     <td> </td>   \n",
       "</tr>\n",
       "</table>\n",
       "<table class=\"simpletable\">\n",
       "<tr>\n",
       "    <td></td>       <th>coef</th>     <th>std err</th>      <th>t</th>      <th>P>|t|</th>  <th>[0.025</th>    <th>0.975]</th>  \n",
       "</tr>\n",
       "<tr>\n",
       "  <th>const</th> <td>   12.2357</td> <td>    0.653</td> <td>   18.724</td> <td> 0.000</td> <td>   10.947</td> <td>   13.524</td>\n",
       "</tr>\n",
       "<tr>\n",
       "  <th>x1</th>    <td>    0.1244</td> <td>    0.024</td> <td>    5.251</td> <td> 0.000</td> <td>    0.078</td> <td>    0.171</td>\n",
       "</tr>\n",
       "</table>\n",
       "<table class=\"simpletable\">\n",
       "<tr>\n",
       "  <th>Omnibus:</th>       <td>11.077</td> <th>  Durbin-Watson:     </th> <td>   2.018</td>\n",
       "</tr>\n",
       "<tr>\n",
       "  <th>Prob(Omnibus):</th> <td> 0.004</td> <th>  Jarque-Bera (JB):  </th> <td>   9.124</td>\n",
       "</tr>\n",
       "<tr>\n",
       "  <th>Skew:</th>          <td>-0.433</td> <th>  Prob(JB):          </th> <td>  0.0104</td>\n",
       "</tr>\n",
       "<tr>\n",
       "  <th>Kurtosis:</th>      <td> 2.414</td> <th>  Cond. No.          </th> <td>    51.4</td>\n",
       "</tr>\n",
       "</table><br/><br/>Notes:<br/>[1] Standard Errors assume that the covariance matrix of the errors is correctly specified."
      ],
      "text/plain": [
       "<class 'statsmodels.iolib.summary.Summary'>\n",
       "\"\"\"\n",
       "                            OLS Regression Results                            \n",
       "==============================================================================\n",
       "Dep. Variable:                      y   R-squared:                       0.122\n",
       "Model:                            OLS   Adj. R-squared:                  0.118\n",
       "Method:                 Least Squares   F-statistic:                     27.57\n",
       "Date:                Mon, 07 Mar 2022   Prob (F-statistic):           3.88e-07\n",
       "Time:                        04:34:48   Log-Likelihood:                -603.18\n",
       "No. Observations:                 200   AIC:                             1210.\n",
       "Df Residuals:                     198   BIC:                             1217.\n",
       "Df Model:                           1                                         \n",
       "Covariance Type:            nonrobust                                         \n",
       "==============================================================================\n",
       "                 coef    std err          t      P>|t|      [0.025      0.975]\n",
       "------------------------------------------------------------------------------\n",
       "const         12.2357      0.653     18.724      0.000      10.947      13.524\n",
       "x1             0.1244      0.024      5.251      0.000       0.078       0.171\n",
       "==============================================================================\n",
       "Omnibus:                       11.077   Durbin-Watson:                   2.018\n",
       "Prob(Omnibus):                  0.004   Jarque-Bera (JB):                9.124\n",
       "Skew:                          -0.433   Prob(JB):                       0.0104\n",
       "Kurtosis:                       2.414   Cond. No.                         51.4\n",
       "==============================================================================\n",
       "\n",
       "Notes:\n",
       "[1] Standard Errors assume that the covariance matrix of the errors is correctly specified.\n",
       "\"\"\""
      ]
     },
     "execution_count": 59,
     "metadata": {},
     "output_type": "execute_result"
    },
    {
     "data": {
      "image/png": "[encoded data removed]",
      "text/plain": [
       "<Figure size 432x288 with 1 Axes>"
      ]
     },
     "metadata": {
      "needs_background": "light"
     },
     "output_type": "display_data"
    }
   ],
   "source": [
    "x = data[\"Radio\"].values.reshape(-1,1)\n",
    "y = data[\"Sales\"].values.reshape(-1,1)\n",
    "plt.scatter(x,y)\n",
    "est = sm.OLS(y,sm.add_constant(x))\n",
    "est = est.fit()\n",
    "est.summary()"
   ]
  },
  {
   "cell_type": "markdown",
   "id": "9eec312e",
   "metadata": {},
   "source": [
    "# Newspaper"
   ]
  },
  {
   "cell_type": "code",
   "execution_count": 60,
   "id": "54a46b50",
   "metadata": {},
   "outputs": [
    {
     "data": {
      "text/html": [
       "<table class=\"simpletable\">\n",
       "<caption>OLS Regression Results</caption>\n",
       "<tr>\n",
       "  <th>Dep. Variable:</th>            <td>y</td>        <th>  R-squared:         </th> <td>   0.025</td>\n",
       "</tr>\n",
       "<tr>\n",
       "  <th>Model:</th>                   <td>OLS</td>       <th>  Adj. R-squared:    </th> <td>   0.020</td>\n",
       "</tr>\n",
       "<tr>\n",
       "  <th>Method:</th>             <td>Least Squares</td>  <th>  F-statistic:       </th> <td>   5.067</td>\n",
       "</tr>\n",
       "<tr>\n",
       "  <th>Date:</th>             <td>Mon, 07 Mar 2022</td> <th>  Prob (F-statistic):</th>  <td>0.0255</td> \n",
       "</tr>\n",
       "<tr>\n",
       "  <th>Time:</th>                 <td>04:35:16</td>     <th>  Log-Likelihood:    </th> <td> -613.69</td>\n",
       "</tr>\n",
       "<tr>\n",
       "  <th>No. Observations:</th>      <td>   200</td>      <th>  AIC:               </th> <td>   1231.</td>\n",
       "</tr>\n",
       "<tr>\n",
       "  <th>Df Residuals:</th>          <td>   198</td>      <th>  BIC:               </th> <td>   1238.</td>\n",
       "</tr>\n",
       "<tr>\n",
       "  <th>Df Model:</th>              <td>     1</td>      <th>                     </th>     <td> </td>   \n",
       "</tr>\n",
       "<tr>\n",
       "  <th>Covariance Type:</th>      <td>nonrobust</td>    <th>                     </th>     <td> </td>   \n",
       "</tr>\n",
       "</table>\n",
       "<table class=\"simpletable\">\n",
       "<tr>\n",
       "    <td></td>       <th>coef</th>     <th>std err</th>      <th>t</th>      <th>P>|t|</th>  <th>[0.025</th>    <th>0.975]</th>  \n",
       "</tr>\n",
       "<tr>\n",
       "  <th>const</th> <td>   13.9595</td> <td>    0.638</td> <td>   21.870</td> <td> 0.000</td> <td>   12.701</td> <td>   15.218</td>\n",
       "</tr>\n",
       "<tr>\n",
       "  <th>x1</th>    <td>    0.0383</td> <td>    0.017</td> <td>    2.251</td> <td> 0.025</td> <td>    0.005</td> <td>    0.072</td>\n",
       "</tr>\n",
       "</table>\n",
       "<table class=\"simpletable\">\n",
       "<tr>\n",
       "  <th>Omnibus:</th>       <td>10.252</td> <th>  Durbin-Watson:     </th> <td>   2.017</td>\n",
       "</tr>\n",
       "<tr>\n",
       "  <th>Prob(Omnibus):</th> <td> 0.006</td> <th>  Jarque-Bera (JB):  </th> <td>   4.808</td>\n",
       "</tr>\n",
       "<tr>\n",
       "  <th>Skew:</th>          <td>-0.111</td> <th>  Prob(JB):          </th> <td>  0.0903</td>\n",
       "</tr>\n",
       "<tr>\n",
       "  <th>Kurtosis:</th>      <td> 2.273</td> <th>  Cond. No.          </th> <td>    64.7</td>\n",
       "</tr>\n",
       "</table><br/><br/>Notes:<br/>[1] Standard Errors assume that the covariance matrix of the errors is correctly specified."
      ],
      "text/plain": [
       "<class 'statsmodels.iolib.summary.Summary'>\n",
       "\"\"\"\n",
       "                            OLS Regression Results                            \n",
       "==============================================================================\n",
       "Dep. Variable:                      y   R-squared:                       0.025\n",
       "Model:                            OLS   Adj. R-squared:                  0.020\n",
       "Method:                 Least Squares   F-statistic:                     5.067\n",
       "Date:                Mon, 07 Mar 2022   Prob (F-statistic):             0.0255\n",
       "Time:                        04:35:16   Log-Likelihood:                -613.69\n",
       "No. Observations:                 200   AIC:                             1231.\n",
       "Df Residuals:                     198   BIC:                             1238.\n",
       "Df Model:                           1                                         \n",
       "Covariance Type:            nonrobust                                         \n",
       "==============================================================================\n",
       "                 coef    std err          t      P>|t|      [0.025      0.975]\n",
       "------------------------------------------------------------------------------\n",
       "const         13.9595      0.638     21.870      0.000      12.701      15.218\n",
       "x1             0.0383      0.017      2.251      0.025       0.005       0.072\n",
       "==============================================================================\n",
       "Omnibus:                       10.252   Durbin-Watson:                   2.017\n",
       "Prob(Omnibus):                  0.006   Jarque-Bera (JB):                4.808\n",
       "Skew:                          -0.111   Prob(JB):                       0.0903\n",
       "Kurtosis:                       2.273   Cond. No.                         64.7\n",
       "==============================================================================\n",
       "\n",
       "Notes:\n",
       "[1] Standard Errors assume that the covariance matrix of the errors is correctly specified.\n",
       "\"\"\""
      ]
     },
     "execution_count": 60,
     "metadata": {},
     "output_type": "execute_result"
    },
    {
     "data": {
      "image/png": "[encoded data removed]",
      "text/plain": [
       "<Figure size 432x288 with 1 Axes>"
      ]
     },
     "metadata": {
      "needs_background": "light"
     },
     "output_type": "display_data"
    }
   ],
   "source": [
    "x = data[\"Newspaper\"].values.reshape(-1,1)\n",
    "y = data[\"Sales\"].values.reshape(-1,1)\n",
    "plt.scatter(x,y)\n",
    "est = sm.OLS(y,sm.add_constant(x))\n",
    "est = est.fit()\n",
    "est.summary()"
   ]
  },
  {
   "cell_type": "markdown",
   "id": "ad57c3d3",
   "metadata": {},
   "source": [
    "# TV, Radio, Newspaper\n",
    "\n",
    "$y = \\beta_0 +\\beta_1x_1 +\\beta_2x_2 +\\beta_3x_3 + \\epsilon$\n",
    "\n",
    "$x_1:$ TV\n",
    "\n",
    "$x_2:$ Radio\n",
    "\n",
    "$x_3:$ Newspaper"
   ]
  },
  {
   "cell_type": "code",
   "execution_count": 61,
   "id": "e8037ddf",
   "metadata": {},
   "outputs": [
    {
     "data": {
      "text/html": [
       "<div>\n",
       "<style scoped>\n",
       "    .dataframe tbody tr th:only-of-type {\n",
       "        vertical-align: middle;\n",
       "    }\n",
       "\n",
       "    .dataframe tbody tr th {\n",
       "        vertical-align: top;\n",
       "    }\n",
       "\n",
       "    .dataframe thead th {\n",
       "        text-align: right;\n",
       "    }\n",
       "</style>\n",
       "<table border=\"1\" class=\"dataframe\">\n",
       "  <thead>\n",
       "    <tr style=\"text-align: right;\">\n",
       "      <th></th>\n",
       "      <th>TV</th>\n",
       "      <th>Radio</th>\n",
       "      <th>Newspaper</th>\n",
       "      <th>Sales</th>\n",
       "    </tr>\n",
       "  </thead>\n",
       "  <tbody>\n",
       "    <tr>\n",
       "      <th>0</th>\n",
       "      <td>230.1</td>\n",
       "      <td>37.8</td>\n",
       "      <td>69.2</td>\n",
       "      <td>22.1</td>\n",
       "    </tr>\n",
       "  </tbody>\n",
       "</table>\n",
       "</div>"
      ],
      "text/plain": [
       "      TV  Radio  Newspaper  Sales\n",
       "0  230.1   37.8       69.2   22.1"
      ]
     },
     "metadata": {},
     "output_type": "display_data"
    },
    {
     "data": {
      "text/html": [
       "<table class=\"simpletable\">\n",
       "<caption>OLS Regression Results</caption>\n",
       "<tr>\n",
       "  <th>Dep. Variable:</th>            <td>y</td>        <th>  R-squared:         </th> <td>   0.903</td>\n",
       "</tr>\n",
       "<tr>\n",
       "  <th>Model:</th>                   <td>OLS</td>       <th>  Adj. R-squared:    </th> <td>   0.901</td>\n",
       "</tr>\n",
       "<tr>\n",
       "  <th>Method:</th>             <td>Least Squares</td>  <th>  F-statistic:       </th> <td>   605.4</td>\n",
       "</tr>\n",
       "<tr>\n",
       "  <th>Date:</th>             <td>Mon, 07 Mar 2022</td> <th>  Prob (F-statistic):</th> <td>8.13e-99</td>\n",
       "</tr>\n",
       "<tr>\n",
       "  <th>Time:</th>                 <td>04:35:46</td>     <th>  Log-Likelihood:    </th> <td> -383.34</td>\n",
       "</tr>\n",
       "<tr>\n",
       "  <th>No. Observations:</th>      <td>   200</td>      <th>  AIC:               </th> <td>   774.7</td>\n",
       "</tr>\n",
       "<tr>\n",
       "  <th>Df Residuals:</th>          <td>   196</td>      <th>  BIC:               </th> <td>   787.9</td>\n",
       "</tr>\n",
       "<tr>\n",
       "  <th>Df Model:</th>              <td>     3</td>      <th>                     </th>     <td> </td>   \n",
       "</tr>\n",
       "<tr>\n",
       "  <th>Covariance Type:</th>      <td>nonrobust</td>    <th>                     </th>     <td> </td>   \n",
       "</tr>\n",
       "</table>\n",
       "<table class=\"simpletable\">\n",
       "<tr>\n",
       "    <td></td>       <th>coef</th>     <th>std err</th>      <th>t</th>      <th>P>|t|</th>  <th>[0.025</th>    <th>0.975]</th>  \n",
       "</tr>\n",
       "<tr>\n",
       "  <th>const</th> <td>    4.6251</td> <td>    0.308</td> <td>   15.041</td> <td> 0.000</td> <td>    4.019</td> <td>    5.232</td>\n",
       "</tr>\n",
       "<tr>\n",
       "  <th>x1</th>    <td>    0.0544</td> <td>    0.001</td> <td>   39.592</td> <td> 0.000</td> <td>    0.052</td> <td>    0.057</td>\n",
       "</tr>\n",
       "<tr>\n",
       "  <th>x2</th>    <td>    0.1070</td> <td>    0.008</td> <td>   12.604</td> <td> 0.000</td> <td>    0.090</td> <td>    0.124</td>\n",
       "</tr>\n",
       "<tr>\n",
       "  <th>x3</th>    <td>    0.0003</td> <td>    0.006</td> <td>    0.058</td> <td> 0.954</td> <td>   -0.011</td> <td>    0.012</td>\n",
       "</tr>\n",
       "</table>\n",
       "<table class=\"simpletable\">\n",
       "<tr>\n",
       "  <th>Omnibus:</th>       <td>16.081</td> <th>  Durbin-Watson:     </th> <td>   2.251</td>\n",
       "</tr>\n",
       "<tr>\n",
       "  <th>Prob(Omnibus):</th> <td> 0.000</td> <th>  Jarque-Bera (JB):  </th> <td>  27.655</td>\n",
       "</tr>\n",
       "<tr>\n",
       "  <th>Skew:</th>          <td>-0.431</td> <th>  Prob(JB):          </th> <td>9.88e-07</td>\n",
       "</tr>\n",
       "<tr>\n",
       "  <th>Kurtosis:</th>      <td> 4.605</td> <th>  Cond. No.          </th> <td>    454.</td>\n",
       "</tr>\n",
       "</table><br/><br/>Notes:<br/>[1] Standard Errors assume that the covariance matrix of the errors is correctly specified."
      ],
      "text/plain": [
       "<class 'statsmodels.iolib.summary.Summary'>\n",
       "\"\"\"\n",
       "                            OLS Regression Results                            \n",
       "==============================================================================\n",
       "Dep. Variable:                      y   R-squared:                       0.903\n",
       "Model:                            OLS   Adj. R-squared:                  0.901\n",
       "Method:                 Least Squares   F-statistic:                     605.4\n",
       "Date:                Mon, 07 Mar 2022   Prob (F-statistic):           8.13e-99\n",
       "Time:                        04:35:46   Log-Likelihood:                -383.34\n",
       "No. Observations:                 200   AIC:                             774.7\n",
       "Df Residuals:                     196   BIC:                             787.9\n",
       "Df Model:                           3                                         \n",
       "Covariance Type:            nonrobust                                         \n",
       "==============================================================================\n",
       "                 coef    std err          t      P>|t|      [0.025      0.975]\n",
       "------------------------------------------------------------------------------\n",
       "const          4.6251      0.308     15.041      0.000       4.019       5.232\n",
       "x1             0.0544      0.001     39.592      0.000       0.052       0.057\n",
       "x2             0.1070      0.008     12.604      0.000       0.090       0.124\n",
       "x3             0.0003      0.006      0.058      0.954      -0.011       0.012\n",
       "==============================================================================\n",
       "Omnibus:                       16.081   Durbin-Watson:                   2.251\n",
       "Prob(Omnibus):                  0.000   Jarque-Bera (JB):               27.655\n",
       "Skew:                          -0.431   Prob(JB):                     9.88e-07\n",
       "Kurtosis:                       4.605   Cond. No.                         454.\n",
       "==============================================================================\n",
       "\n",
       "Notes:\n",
       "[1] Standard Errors assume that the covariance matrix of the errors is correctly specified.\n",
       "\"\"\""
      ]
     },
     "execution_count": 61,
     "metadata": {},
     "output_type": "execute_result"
    }
   ],
   "source": [
    "display(data.head(1))\n",
    "x = data.values[:,:-1]\n",
    "y = data[\"Sales\"].values.reshape(-1,1)\n",
    "est = sm.OLS(y,sm.add_constant(x))\n",
    "est = est.fit()\n",
    "est.summary()"
   ]
  },
  {
   "cell_type": "markdown",
   "id": "1ef7bbf9",
   "metadata": {},
   "source": [
    "Un cambio grande en el coeficiende de \"Newspaper\" nos indica que está atado a \"Radio\" y su respectiva relacion con \"sales\""
   ]
  },
  {
   "cell_type": "code",
   "execution_count": 3,
   "id": "3a82e186",
   "metadata": {},
   "outputs": [
    {
     "data": {
      "text/plain": [
       "<AxesSubplot:>"
      ]
     },
     "execution_count": 3,
     "metadata": {},
     "output_type": "execute_result"
    },
    {
     "data": {
      "image/png": "[encoded data removed]",
      "text/plain": [
       "<Figure size 432x288 with 2 Axes>"
      ]
     },
     "metadata": {
      "needs_background": "light"
     },
     "output_type": "display_data"
    }
   ],
   "source": [
    "corr_matrix = data.corr(method='spearman')\n",
    "sb.heatmap(corr_matrix,annot = True)"
   ]
  },
  {
   "cell_type": "markdown",
   "id": "c88f7d6b",
   "metadata": {},
   "source": [
    "# Tv, Radio\n",
    "\n",
    "Midiendo la interacción entre TV, Radio\n",
    "$y = \\beta_0 +\\beta_1x_1 +\\beta_2x_2 + \\epsilon$\n",
    "\n",
    "$x_1:$ TV\n",
    "\n",
    "$x_2:$ Radio\n",
    "\n"
   ]
  },
  {
   "cell_type": "code",
   "execution_count": 65,
   "id": "a7816cc8",
   "metadata": {},
   "outputs": [
    {
     "data": {
      "text/html": [
       "<table class=\"simpletable\">\n",
       "<caption>OLS Regression Results</caption>\n",
       "<tr>\n",
       "  <th>Dep. Variable:</th>            <td>y</td>        <th>  R-squared:         </th> <td>   0.903</td> \n",
       "</tr>\n",
       "<tr>\n",
       "  <th>Model:</th>                   <td>OLS</td>       <th>  Adj. R-squared:    </th> <td>   0.902</td> \n",
       "</tr>\n",
       "<tr>\n",
       "  <th>Method:</th>             <td>Least Squares</td>  <th>  F-statistic:       </th> <td>   912.7</td> \n",
       "</tr>\n",
       "<tr>\n",
       "  <th>Date:</th>             <td>Mon, 07 Mar 2022</td> <th>  Prob (F-statistic):</th> <td>2.39e-100</td>\n",
       "</tr>\n",
       "<tr>\n",
       "  <th>Time:</th>                 <td>04:54:37</td>     <th>  Log-Likelihood:    </th> <td> -383.34</td> \n",
       "</tr>\n",
       "<tr>\n",
       "  <th>No. Observations:</th>      <td>   200</td>      <th>  AIC:               </th> <td>   772.7</td> \n",
       "</tr>\n",
       "<tr>\n",
       "  <th>Df Residuals:</th>          <td>   197</td>      <th>  BIC:               </th> <td>   782.6</td> \n",
       "</tr>\n",
       "<tr>\n",
       "  <th>Df Model:</th>              <td>     2</td>      <th>                     </th>     <td> </td>    \n",
       "</tr>\n",
       "<tr>\n",
       "  <th>Covariance Type:</th>      <td>nonrobust</td>    <th>                     </th>     <td> </td>    \n",
       "</tr>\n",
       "</table>\n",
       "<table class=\"simpletable\">\n",
       "<tr>\n",
       "    <td></td>       <th>coef</th>     <th>std err</th>      <th>t</th>      <th>P>|t|</th>  <th>[0.025</th>    <th>0.975]</th>  \n",
       "</tr>\n",
       "<tr>\n",
       "  <th>const</th> <td>    4.6309</td> <td>    0.290</td> <td>   15.952</td> <td> 0.000</td> <td>    4.058</td> <td>    5.203</td>\n",
       "</tr>\n",
       "<tr>\n",
       "  <th>x1</th>    <td>    0.0544</td> <td>    0.001</td> <td>   39.726</td> <td> 0.000</td> <td>    0.052</td> <td>    0.057</td>\n",
       "</tr>\n",
       "<tr>\n",
       "  <th>x2</th>    <td>    0.1072</td> <td>    0.008</td> <td>   13.522</td> <td> 0.000</td> <td>    0.092</td> <td>    0.123</td>\n",
       "</tr>\n",
       "</table>\n",
       "<table class=\"simpletable\">\n",
       "<tr>\n",
       "  <th>Omnibus:</th>       <td>16.227</td> <th>  Durbin-Watson:     </th> <td>   2.252</td>\n",
       "</tr>\n",
       "<tr>\n",
       "  <th>Prob(Omnibus):</th> <td> 0.000</td> <th>  Jarque-Bera (JB):  </th> <td>  27.973</td>\n",
       "</tr>\n",
       "<tr>\n",
       "  <th>Skew:</th>          <td>-0.434</td> <th>  Prob(JB):          </th> <td>8.43e-07</td>\n",
       "</tr>\n",
       "<tr>\n",
       "  <th>Kurtosis:</th>      <td> 4.613</td> <th>  Cond. No.          </th> <td>    425.</td>\n",
       "</tr>\n",
       "</table><br/><br/>Notes:<br/>[1] Standard Errors assume that the covariance matrix of the errors is correctly specified."
      ],
      "text/plain": [
       "<class 'statsmodels.iolib.summary.Summary'>\n",
       "\"\"\"\n",
       "                            OLS Regression Results                            \n",
       "==============================================================================\n",
       "Dep. Variable:                      y   R-squared:                       0.903\n",
       "Model:                            OLS   Adj. R-squared:                  0.902\n",
       "Method:                 Least Squares   F-statistic:                     912.7\n",
       "Date:                Mon, 07 Mar 2022   Prob (F-statistic):          2.39e-100\n",
       "Time:                        04:54:37   Log-Likelihood:                -383.34\n",
       "No. Observations:                 200   AIC:                             772.7\n",
       "Df Residuals:                     197   BIC:                             782.6\n",
       "Df Model:                           2                                         \n",
       "Covariance Type:            nonrobust                                         \n",
       "==============================================================================\n",
       "                 coef    std err          t      P>|t|      [0.025      0.975]\n",
       "------------------------------------------------------------------------------\n",
       "const          4.6309      0.290     15.952      0.000       4.058       5.203\n",
       "x1             0.0544      0.001     39.726      0.000       0.052       0.057\n",
       "x2             0.1072      0.008     13.522      0.000       0.092       0.123\n",
       "==============================================================================\n",
       "Omnibus:                       16.227   Durbin-Watson:                   2.252\n",
       "Prob(Omnibus):                  0.000   Jarque-Bera (JB):               27.973\n",
       "Skew:                          -0.434   Prob(JB):                     8.43e-07\n",
       "Kurtosis:                       4.613   Cond. No.                         425.\n",
       "==============================================================================\n",
       "\n",
       "Notes:\n",
       "[1] Standard Errors assume that the covariance matrix of the errors is correctly specified.\n",
       "\"\"\""
      ]
     },
     "execution_count": 65,
     "metadata": {},
     "output_type": "execute_result"
    }
   ],
   "source": [
    "x = data.values[:,:-2]\n",
    "y = data[\"Sales\"].values.reshape(-1,1)\n",
    "est = sm.OLS(y,sm.add_constant(x))\n",
    "est = est.fit()\n",
    "est.summary()"
   ]
  },
  {
   "cell_type": "markdown",
   "id": "9ff4c3fd",
   "metadata": {},
   "source": [
    "# TV, Radio, TVxRadio\n",
    "\n",
    "Midiendo la interacción entre TV, Radio\n",
    "\n",
    "$y = \\beta_0 +\\beta_1x_1 +\\beta_2x_2 +\\beta_3x_1x_2 + \\epsilon$\n",
    "\n",
    "$x_1:$ TV\n",
    "\n",
    "$x_2:$ Radio\n",
    "\n"
   ]
  },
  {
   "cell_type": "code",
   "execution_count": 63,
   "id": "fa6b7a9e",
   "metadata": {},
   "outputs": [
    {
     "data": {
      "text/html": [
       "<div>\n",
       "<style scoped>\n",
       "    .dataframe tbody tr th:only-of-type {\n",
       "        vertical-align: middle;\n",
       "    }\n",
       "\n",
       "    .dataframe tbody tr th {\n",
       "        vertical-align: top;\n",
       "    }\n",
       "\n",
       "    .dataframe thead th {\n",
       "        text-align: right;\n",
       "    }\n",
       "</style>\n",
       "<table border=\"1\" class=\"dataframe\">\n",
       "  <thead>\n",
       "    <tr style=\"text-align: right;\">\n",
       "      <th></th>\n",
       "      <th>TV</th>\n",
       "      <th>Radio</th>\n",
       "      <th>Newspaper</th>\n",
       "      <th>Sales</th>\n",
       "    </tr>\n",
       "  </thead>\n",
       "  <tbody>\n",
       "    <tr>\n",
       "      <th>0</th>\n",
       "      <td>230.1</td>\n",
       "      <td>37.8</td>\n",
       "      <td>69.2</td>\n",
       "      <td>22.1</td>\n",
       "    </tr>\n",
       "  </tbody>\n",
       "</table>\n",
       "</div>"
      ],
      "text/plain": [
       "      TV  Radio  Newspaper  Sales\n",
       "0  230.1   37.8       69.2   22.1"
      ]
     },
     "metadata": {},
     "output_type": "display_data"
    },
    {
     "data": {
      "text/html": [
       "<table class=\"simpletable\">\n",
       "<caption>OLS Regression Results</caption>\n",
       "<tr>\n",
       "  <th>Dep. Variable:</th>            <td>y</td>        <th>  R-squared:         </th> <td>   0.914</td> \n",
       "</tr>\n",
       "<tr>\n",
       "  <th>Model:</th>                   <td>OLS</td>       <th>  Adj. R-squared:    </th> <td>   0.913</td> \n",
       "</tr>\n",
       "<tr>\n",
       "  <th>Method:</th>             <td>Least Squares</td>  <th>  F-statistic:       </th> <td>   694.7</td> \n",
       "</tr>\n",
       "<tr>\n",
       "  <th>Date:</th>             <td>Mon, 07 Mar 2022</td> <th>  Prob (F-statistic):</th> <td>3.90e-104</td>\n",
       "</tr>\n",
       "<tr>\n",
       "  <th>Time:</th>                 <td>04:48:27</td>     <th>  Log-Likelihood:    </th> <td> -370.83</td> \n",
       "</tr>\n",
       "<tr>\n",
       "  <th>No. Observations:</th>      <td>   200</td>      <th>  AIC:               </th> <td>   749.7</td> \n",
       "</tr>\n",
       "<tr>\n",
       "  <th>Df Residuals:</th>          <td>   196</td>      <th>  BIC:               </th> <td>   762.9</td> \n",
       "</tr>\n",
       "<tr>\n",
       "  <th>Df Model:</th>              <td>     3</td>      <th>                     </th>     <td> </td>    \n",
       "</tr>\n",
       "<tr>\n",
       "  <th>Covariance Type:</th>      <td>nonrobust</td>    <th>                     </th>     <td> </td>    \n",
       "</tr>\n",
       "</table>\n",
       "<table class=\"simpletable\">\n",
       "<tr>\n",
       "    <td></td>       <th>coef</th>     <th>std err</th>      <th>t</th>      <th>P>|t|</th>  <th>[0.025</th>    <th>0.975]</th>  \n",
       "</tr>\n",
       "<tr>\n",
       "  <th>const</th> <td>    6.1926</td> <td>    0.410</td> <td>   15.101</td> <td> 0.000</td> <td>    5.384</td> <td>    7.001</td>\n",
       "</tr>\n",
       "<tr>\n",
       "  <th>x1</th>    <td>    0.0436</td> <td>    0.002</td> <td>   17.512</td> <td> 0.000</td> <td>    0.039</td> <td>    0.048</td>\n",
       "</tr>\n",
       "<tr>\n",
       "  <th>x2</th>    <td>    0.0423</td> <td>    0.015</td> <td>    2.869</td> <td> 0.005</td> <td>    0.013</td> <td>    0.071</td>\n",
       "</tr>\n",
       "<tr>\n",
       "  <th>x3</th>    <td>    0.0004</td> <td> 8.67e-05</td> <td>    5.110</td> <td> 0.000</td> <td>    0.000</td> <td>    0.001</td>\n",
       "</tr>\n",
       "</table>\n",
       "<table class=\"simpletable\">\n",
       "<tr>\n",
       "  <th>Omnibus:</th>       <td> 8.006</td> <th>  Durbin-Watson:     </th> <td>   2.295</td>\n",
       "</tr>\n",
       "<tr>\n",
       "  <th>Prob(Omnibus):</th> <td> 0.018</td> <th>  Jarque-Bera (JB):  </th> <td>  10.847</td>\n",
       "</tr>\n",
       "<tr>\n",
       "  <th>Skew:</th>          <td>-0.258</td> <th>  Prob(JB):          </th> <td> 0.00441</td>\n",
       "</tr>\n",
       "<tr>\n",
       "  <th>Kurtosis:</th>      <td> 4.017</td> <th>  Cond. No.          </th> <td>1.80e+04</td>\n",
       "</tr>\n",
       "</table><br/><br/>Notes:<br/>[1] Standard Errors assume that the covariance matrix of the errors is correctly specified.<br/>[2] The condition number is large, 1.8e+04. This might indicate that there are<br/>strong multicollinearity or other numerical problems."
      ],
      "text/plain": [
       "<class 'statsmodels.iolib.summary.Summary'>\n",
       "\"\"\"\n",
       "                            OLS Regression Results                            \n",
       "==============================================================================\n",
       "Dep. Variable:                      y   R-squared:                       0.914\n",
       "Model:                            OLS   Adj. R-squared:                  0.913\n",
       "Method:                 Least Squares   F-statistic:                     694.7\n",
       "Date:                Mon, 07 Mar 2022   Prob (F-statistic):          3.90e-104\n",
       "Time:                        04:48:27   Log-Likelihood:                -370.83\n",
       "No. Observations:                 200   AIC:                             749.7\n",
       "Df Residuals:                     196   BIC:                             762.9\n",
       "Df Model:                           3                                         \n",
       "Covariance Type:            nonrobust                                         \n",
       "==============================================================================\n",
       "                 coef    std err          t      P>|t|      [0.025      0.975]\n",
       "------------------------------------------------------------------------------\n",
       "const          6.1926      0.410     15.101      0.000       5.384       7.001\n",
       "x1             0.0436      0.002     17.512      0.000       0.039       0.048\n",
       "x2             0.0423      0.015      2.869      0.005       0.013       0.071\n",
       "x3             0.0004   8.67e-05      5.110      0.000       0.000       0.001\n",
       "==============================================================================\n",
       "Omnibus:                        8.006   Durbin-Watson:                   2.295\n",
       "Prob(Omnibus):                  0.018   Jarque-Bera (JB):               10.847\n",
       "Skew:                          -0.258   Prob(JB):                      0.00441\n",
       "Kurtosis:                       4.017   Cond. No.                     1.80e+04\n",
       "==============================================================================\n",
       "\n",
       "Notes:\n",
       "[1] Standard Errors assume that the covariance matrix of the errors is correctly specified.\n",
       "[2] The condition number is large, 1.8e+04. This might indicate that there are\n",
       "strong multicollinearity or other numerical problems.\n",
       "\"\"\""
      ]
     },
     "execution_count": 63,
     "metadata": {},
     "output_type": "execute_result"
    }
   ],
   "source": [
    "display(data.head(1))\n",
    "x = data.values[:,:-1]\n",
    "x[:,2] = x[:,0]*x[:,1]\n",
    "y = data[\"Sales\"].values.reshape(-1,1)\n",
    "est = sm.OLS(y,sm.add_constant(x))\n",
    "est = est.fit()\n",
    "est.summary()"
   ]
  },
  {
   "cell_type": "markdown",
   "id": "f885ecf4",
   "metadata": {},
   "source": [
    "# Referencias\n",
    "\n",
    "* G. James “An Introduction to Statistical Learning.” 2021."
   ]
  }
 ],
 "metadata": {
  "kernelspec": {
   "display_name": "Python 3 (ipykernel)",
   "language": "python",
   "name": "python3"
  },
  "language_info": {
   "codemirror_mode": {
    "name": "ipython",
    "version": 3
   },
   "file_extension": ".py",
   "mimetype": "text/x-python",
   "name": "python",
   "nbconvert_exporter": "python",
   "pygments_lexer": "ipython3",
   "version": "3.9.7"
  }
 },
 "nbformat": 4,
 "nbformat_minor": 5
}
